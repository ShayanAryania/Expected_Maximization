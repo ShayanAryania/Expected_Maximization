{
  "cells": [
    {
      "cell_type": "markdown",
      "metadata": {
        "id": "lwngRnVMM4nf"
      },
      "source": [
        "**Full Name: shayan aryania**\n",
        "\n",
        "**St ID: 402211767**"
      ]
    },
    {
      "cell_type": "markdown",
      "metadata": {
        "id": "VLCUIEe_Ml-e"
      },
      "source": [
        "#Expectation Maximization Algorithm\n",
        "\n",
        "This EM algorithm implementation is designed to uncover hidden patterns in multiple DNA sequences, with a focus on identifying optimal motif locations and alignment positions. As an unsupervised learning technique, the EM algorithm is well-suited for discovering latent variables in complex data sets. The program's primary objectives are to provide a clear and efficient implementation of the EM algorithm and to facilitate the discovery of meaningful motifs and alignment positions in DNA sequences.\n",
        "\n",
        "The motif locations and alignment positions are latent variables that require inference, as they are known to exist but cannot be directly observed. To address this challenge, the program employs a iterative approach, refining its estimates of these variables until convergence is achieved.\n",
        "\n",
        "A key feature of this implementation is that the initial motif positions are randomly initialized, which means that each run of the program will produce unique results. However, the program's ability to consistently produce similar results when provided with the same input demonstrates its robustness.\n",
        "\n",
        "The Expectation step is the algorithm's workhorse, responsible for calculating positional frequencies, odds ratios, and log-odds scores. These scores are then used to derive the log-likelihood function, which is optimized in the Maximization step. By iteratively refining its estimates of the motif positions and alignment scores, the program is able to identify the most likely motifs and alignment positions in the input DNA sequences."
      ]
    },
    {
      "cell_type": "markdown",
      "metadata": {
        "id": "zr8MVuj3Ou_v"
      },
      "source": [
        "### Install and import required packages"
      ]
    },
    {
      "cell_type": "code",
      "execution_count": 1,
      "metadata": {
        "id": "FTVCpVR72YNO"
      },
      "outputs": [],
      "source": [
        "import random\n",
        "import numpy as np\n",
        "import pandas as pd\n",
        "from collections import Counter"
      ]
    },
    {
      "cell_type": "markdown",
      "metadata": {
        "id": "7-zkxqEhQtnn"
      },
      "source": [
        "### Load dataset file\n",
        "Loads all user data including the number of random alignments, the number of iterations, and the FASTA file."
      ]
    },
    {
      "cell_type": "code",
      "execution_count": 21,
      "metadata": {
        "id": "I_ObwEKlpUO-"
      },
      "outputs": [],
      "source": [
        "motif_len = 6\n",
        "random_alignment_total = 200\n",
        "iteration = 200"
      ]
    },
    {
      "cell_type": "code",
      "execution_count": 20,
      "metadata": {
        "id": "RhhSMEqVk0Wu"
      },
      "outputs": [],
      "source": [
        "with open(\"example.fasta\") as fasta:\n",
        "    sequences = [x.strip(\"\\n\") for i, x in enumerate(fasta.readlines()) if i % 2 == 1]"
      ]
    },
    {
      "cell_type": "markdown",
      "metadata": {
        "id": "tjSWJbrRPppZ"
      },
      "source": [
        "### Prepare data\n",
        "Centralizes all relevant and reusable data, encompassing a comprehensive range of information. This includes the concatenation of all bases into a single string, a tally of individual base counts, an inventory of contiguous motifs, and the calculation of cumulative sums."
      ]
    },
    {
      "cell_type": "code",
      "execution_count": null,
      "metadata": {
        "id": "Ao-mTDDdny32"
      },
      "outputs": [],
      "source": [
        "all_base_chars = \"\".join(sequences)\n",
        "\n",
        "total_base_frequency = Counter(all_base_chars)\n",
        "\n",
        "seqs_len = [len(x)- motif_len for x in sequences]\n",
        "seqs_len.insert(0, 0)\n",
        "\n",
        "initial_cumulative_sum = np.array(seqs_len)\n",
        "cumulative_sum_sequence = np.cumsum(initial_cumulative_sum)\n",
        "\n",
        "motif_contigs = np.array([list(seq[start:start + motif_len])\n",
        "            for seq in sequences\n",
        "            for start in range(len(seq) - motif_len)])"
      ]
    },
    {
      "cell_type": "markdown",
      "metadata": {
        "id": "TmRZnNvyRELG"
      },
      "source": [
        "## EM Steps:"
      ]
    },
    {
      "cell_type": "code",
      "execution_count": 14,
      "metadata": {
        "id": "QIVqHLDlK94o"
      },
      "outputs": [],
      "source": [
        "def initialize_random_positions(seqs_len):\n",
        "    motif_start_pos = [random.randint(0, length) for length in seqs_len]\n",
        "    return motif_start_pos"
      ]
    },
    {
      "cell_type": "code",
      "execution_count": 15,
      "metadata": {},
      "outputs": [],
      "source": [
        "def motif_count_EM(motif_start_pos, sequences, total_base_frequency, motif_len):\n",
        "    em_motif = [x[pos:pos + motif_len] for x, pos in zip(sequences, motif_start_pos)]\n",
        "    motif_base_chars = \"\".join(em_motif)\n",
        "\n",
        "    total_bkg_counts = total_base_frequency - Counter(motif_base_chars)\n",
        "\n",
        "    motif_posits_freqs = {base: np.ones(motif_len) for base in 'ACGT'}\n",
        "    for i in range(motif_len):\n",
        "        for base in 'ACGT':\n",
        "            motif_posits_freqs[base][i] += motif_base_chars[i::motif_len].count(base)\n",
        "\n",
        "    return total_bkg_counts, motif_posits_freqs"
      ]
    },
    {
      "cell_type": "code",
      "execution_count": 16,
      "metadata": {
        "id": "2xxKzf_nVVzh"
      },
      "outputs": [],
      "source": [
        "def generate_EM_matrix(total_counts, motif_pos_freq, motif_len):\n",
        "    em_log_odds_ratio = np.empty((4, motif_len))\n",
        "\n",
        "    total_bases = sum(total_counts.values())\n",
        "    background_freq = {base: total_counts[base] / total_bases for base in 'ACGT'}\n",
        "\n",
        "    for i in range(motif_len):\n",
        "        for j, base in enumerate('ACGT'):\n",
        "            motif_freq = motif_pos_freq[base][i]\n",
        "            bkg_freq = background_freq[base]\n",
        "            odds_ratio = motif_freq / bkg_freq\n",
        "            em_log_odds_ratio[j, i] = np.log(odds_ratio)\n",
        "\n",
        "    return em_log_odds_ratio"
      ]
    },
    {
      "cell_type": "code",
      "execution_count": 17,
      "metadata": {},
      "outputs": [],
      "source": [
        "def base_index(base):\n",
        "    return {'A': 0, 'C': 1, 'G': 2, 'T': 3}[base]"
      ]
    },
    {
      "cell_type": "code",
      "execution_count": 18,
      "metadata": {
        "id": "eE4RTTDIKBTX"
      },
      "outputs": [],
      "source": [
        "def calculate_EM_score(em_log_odds_ratio, motif_len, sequences, iteration, total_base_frequency):\n",
        "    for _ in range(iteration):\n",
        "        motif_start_posits = []\n",
        "        for sequence in sequences:\n",
        "            max_score = -np.inf\n",
        "            max_posit = 0\n",
        "            for i in range(len(sequence) - motif_len + 1):\n",
        "                score = sum(em_log_odds_ratio[base_index(sequence[i + j])][j] for j in range(motif_len))\n",
        "                if score > max_score:\n",
        "                    max_score = score\n",
        "                    max_posit = i\n",
        "            motif_start_posits.append(max_posit)\n",
        "\n",
        "        total_counts, motif_pos_freq = motif_count_EM(motif_start_posits, sequences, total_base_frequency, motif_len)\n",
        "        em_log_odds_ratio = generate_EM_matrix(total_counts, motif_pos_freq, motif_len)\n",
        "\n",
        "    max_likely_results = {\"Final Positions\": motif_start_posits, \"Final Scores\": [], \"Final Motifs\": []}\n",
        "    for i, sequence in enumerate(sequences):\n",
        "        final_pos = motif_start_posits[i]\n",
        "        final_motif = sequence[final_pos:final_pos + motif_len]\n",
        "        final_score = sum(em_log_odds_ratio[base_index(base)][j] for j, base in enumerate(final_motif))\n",
        "        max_likely_results[\"Final Scores\"].append(final_score)\n",
        "        max_likely_results[\"Final Motifs\"].append(final_motif)\n",
        "\n",
        "    return max_likely_results\n"
      ]
    },
    {
      "cell_type": "markdown",
      "metadata": {
        "id": "fMGcnwbtSUkj"
      },
      "source": [
        "The entire process iterates until convergence is achieved, The optimal results from each iteration are then documented for future reference."
      ]
    },
    {
      "cell_type": "code",
      "execution_count": 19,
      "metadata": {},
      "outputs": [],
      "source": [
        "def run_em_algorithm(sequences, motif_len, iteration, random_alignment_total):\n",
        "    total_base_chars = \"\".join(sequences)\n",
        "    total_base_frequency = Counter(total_base_chars)\n",
        "    seqs_len = [len(x) - motif_len for x in sequences]\n",
        "\n",
        "    total_records = []\n",
        "    for _ in range(random_alignment_total):\n",
        "        motif_start_pos = initialize_random_positions(seqs_len)\n",
        "        total_counts, motif_pos_freq = motif_count_EM(motif_start_pos, sequences, total_base_frequency, motif_len)\n",
        "        em_log_odds_ratio = generate_EM_matrix(total_counts, motif_pos_freq, motif_len)\n",
        "        maximum_likelihood = calculate_EM_score(em_log_odds_ratio, motif_len, sequences, iteration, total_base_frequency)\n",
        "        \n",
        "        maximum_likelihood[\"Max Final Score\"] = max(maximum_likelihood[\"Final Scores\"])\n",
        "        maximum_likelihood[\"Max Sum Scores\"] = sum(maximum_likelihood[\"Final Scores\"])\n",
        "        max_final_sequence_idx = maximum_likelihood[\"Final Scores\"].index(maximum_likelihood[\"Max Final Score\"])\n",
        "        maximum_likelihood[\"Max Final Sequence\"] = max_final_sequence_idx\n",
        "        maximum_likelihood[\"Max Final Position\"] = maximum_likelihood[\"Final Positions\"][max_final_sequence_idx]\n",
        "        maximum_likelihood[\"Max Final Motif\"] = maximum_likelihood[\"Final Motifs\"][max_final_sequence_idx]\n",
        "        \n",
        "        total_records.append(maximum_likelihood)\n",
        "\n",
        "    final_results = max(total_records, key=lambda x: x[\"Max Sum Scores\"])\n",
        "    return final_results\n"
      ]
    },
    {
      "cell_type": "code",
      "execution_count": 22,
      "metadata": {},
      "outputs": [],
      "source": [
        "final_results = run_em_algorithm(sequences, motif_len, iteration, random_alignment_total)"
      ]
    },
    {
      "cell_type": "markdown",
      "metadata": {
        "id": "5ls0KAFTSimv"
      },
      "source": [
        "The scoring results for the aligned sequences, and the maximum statistics are displayed."
      ]
    },
    {
      "cell_type": "code",
      "execution_count": 23,
      "metadata": {
        "id": "YmEo11B0LJ1l"
      },
      "outputs": [
        {
          "name": "stdout",
          "output_type": "stream",
          "text": [
            "    Final Scores  Final Positions Final Motifs\n",
            "0      26.728441               18       TTATCA\n",
            "1      24.377937               22       CGGTCA\n",
            "2      26.202749               15       CTATCA\n",
            "3      23.632581               17       AGATAA\n",
            "4      23.705029               16       TGATTA\n",
            "5      25.992735               18       CTATCT\n",
            "6      26.728441               20       TTATCA\n",
            "7      26.728441                2       TTATCA\n",
            "8      25.698765               17       CTATAA\n",
            "9      25.992735               14       CTATCT\n",
            "10     24.903629               21       TGGTCA\n",
            "11     25.409777               33       TTGTAA\n",
            "12     26.518427               20       TTATCT\n",
            "13     26.518427                2       TTATCT\n",
            "14     26.728441               10       TTATCA\n",
            "15     25.698765                3       CTATAA\n",
            "16     24.399645               21       TGGTAA\n",
            "17     23.422566               20       AGATAT\n",
            "18     25.214326               16       TGATAA\n",
            "19     23.632581               24       AGATAA\n",
            "20     24.674070               12       CTGTAT\n",
            "21     24.674070                0       CTGTAT\n",
            "22     25.992735               23       CTATCT\n",
            "23     25.703747                4       TTGTCT\n",
            "24     26.518427               17       TTATCT\n",
            "25     24.084662               15       CTATCG\n",
            "26     26.728441               19       TTATCA\n",
            "27     25.992735               15       CTATCT\n",
            "28     25.913761                2       TTGTCA\n",
            "('Max Final Score', 26.728441351415928)\n",
            "('Max Sum Scores', 738.5170836327068)\n",
            "('Max Final Sequence', 0)\n",
            "('Max Final Position', 18)\n",
            "('Max Final Motif', 'TTATCA')\n"
          ]
        }
      ],
      "source": [
        "final_dataframe = pd.DataFrame({key:final_results[key] for key in (\"Final Scores\", \"Final Positions\", \"Final Motifs\")})\n",
        "\n",
        "del final_results[\"Final Positions\"]\n",
        "del final_results[\"Final Scores\"]\n",
        "del final_results[\"Final Motifs\"]\n",
        "\n",
        "print(final_dataframe)\n",
        "print(*final_results.items(), sep='\\n')"
      ]
    },
    {
      "cell_type": "code",
      "execution_count": null,
      "metadata": {},
      "outputs": [],
      "source": []
    }
  ],
  "metadata": {
    "colab": {
      "provenance": []
    },
    "kernelspec": {
      "display_name": "Python 3",
      "name": "python3"
    },
    "language_info": {
      "codemirror_mode": {
        "name": "ipython",
        "version": 3
      },
      "file_extension": ".py",
      "mimetype": "text/x-python",
      "name": "python",
      "nbconvert_exporter": "python",
      "pygments_lexer": "ipython3",
      "version": "3.12.2"
    }
  },
  "nbformat": 4,
  "nbformat_minor": 0
}
